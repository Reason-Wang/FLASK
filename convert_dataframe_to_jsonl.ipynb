{
 "cells": [
  {
   "cell_type": "code",
   "execution_count": 5,
   "metadata": {
    "collapsed": true,
    "ExecuteTime": {
     "end_time": "2023-08-02T01:52:57.524632700Z",
     "start_time": "2023-08-02T01:52:57.519170Z"
    }
   },
   "outputs": [],
   "source": [
    "import pandas as pd\n",
    "import json"
   ]
  },
  {
   "cell_type": "code",
   "execution_count": 2,
   "outputs": [
    {
     "data": {
      "text/plain": "                                             instruction  \\\n0        List 5 reasons why someone should learn to code   \n1      Arrange the given words in a sentence: \"geneti...   \n2      Evaluate the website’s design: \"https://www.ex...   \n3         Describe the benefits of eating healthy foods.   \n4      What is the distance between Boston and New Yo...   \n...                                                  ...   \n51980  List 5 psychological development milestones fo...   \n51981  Give an example of a reliable source to use wh...   \n51982  Describe the most heroic thing you've seen som...   \n51983  Compress the following sentence without changi...   \n51984           Calculate the given equation: \"6x+3y=12\"   \n\n                                                response  \n0      1. High demand for coding skills in the job ma...  \n1                  \"Human beings genetic teleportation.\"  \n2      I'm sorry, but I cannot evaluate the design of...  \n3      Eating healthy foods has numerous benefits inc...  \n4      The distance between Boston and New York City ...  \n...                                                  ...  \n51980  1. Developing a sense of self-awareness and in...  \n51981  One example of a reliable source is a peer-rev...  \n51982  I am an AI language model and I cannot see any...  \n51983             Confusion about proceeding was shared.  \n51984  There are different ways to calculate the give...  \n\n[51985 rows x 2 columns]",
      "text/html": "<div>\n<style scoped>\n    .dataframe tbody tr th:only-of-type {\n        vertical-align: middle;\n    }\n\n    .dataframe tbody tr th {\n        vertical-align: top;\n    }\n\n    .dataframe thead th {\n        text-align: right;\n    }\n</style>\n<table border=\"1\" class=\"dataframe\">\n  <thead>\n    <tr style=\"text-align: right;\">\n      <th></th>\n      <th>instruction</th>\n      <th>response</th>\n    </tr>\n  </thead>\n  <tbody>\n    <tr>\n      <th>0</th>\n      <td>List 5 reasons why someone should learn to code</td>\n      <td>1. High demand for coding skills in the job ma...</td>\n    </tr>\n    <tr>\n      <th>1</th>\n      <td>Arrange the given words in a sentence: \"geneti...</td>\n      <td>\"Human beings genetic teleportation.\"</td>\n    </tr>\n    <tr>\n      <th>2</th>\n      <td>Evaluate the website’s design: \"https://www.ex...</td>\n      <td>I'm sorry, but I cannot evaluate the design of...</td>\n    </tr>\n    <tr>\n      <th>3</th>\n      <td>Describe the benefits of eating healthy foods.</td>\n      <td>Eating healthy foods has numerous benefits inc...</td>\n    </tr>\n    <tr>\n      <th>4</th>\n      <td>What is the distance between Boston and New Yo...</td>\n      <td>The distance between Boston and New York City ...</td>\n    </tr>\n    <tr>\n      <th>...</th>\n      <td>...</td>\n      <td>...</td>\n    </tr>\n    <tr>\n      <th>51980</th>\n      <td>List 5 psychological development milestones fo...</td>\n      <td>1. Developing a sense of self-awareness and in...</td>\n    </tr>\n    <tr>\n      <th>51981</th>\n      <td>Give an example of a reliable source to use wh...</td>\n      <td>One example of a reliable source is a peer-rev...</td>\n    </tr>\n    <tr>\n      <th>51982</th>\n      <td>Describe the most heroic thing you've seen som...</td>\n      <td>I am an AI language model and I cannot see any...</td>\n    </tr>\n    <tr>\n      <th>51983</th>\n      <td>Compress the following sentence without changi...</td>\n      <td>Confusion about proceeding was shared.</td>\n    </tr>\n    <tr>\n      <th>51984</th>\n      <td>Calculate the given equation: \"6x+3y=12\"</td>\n      <td>There are different ways to calculate the give...</td>\n    </tr>\n  </tbody>\n</table>\n<p>51985 rows × 2 columns</p>\n</div>"
     },
     "metadata": {},
     "output_type": "display_data"
    }
   ],
   "source": [
    "df = pd.read_pickle(\"input_data/alpaca_instructions_df.pkl\")\n",
    "display(df)"
   ],
   "metadata": {
    "collapsed": false,
    "ExecuteTime": {
     "end_time": "2023-08-02T01:47:49.881568700Z",
     "start_time": "2023-08-02T01:47:49.819876100Z"
    }
   }
  },
  {
   "cell_type": "code",
   "execution_count": 6,
   "outputs": [],
   "source": [
    "with open('input_data/alpaca_instructions.jsonl', 'w') as output_write_file:\n",
    "    for i, row in df.iterrows():\n",
    "        out_dict = {'question_id': i, 'text': row['instruction'], 'answer': row['response']}\n",
    "        try:\n",
    "            output_write_file.write(json.dumps(out_dict) + '\\n')\n",
    "        except Exception as e:\n",
    "            print(e)\n",
    "            output_write_file.write('\\n')\n",
    "            print(i)"
   ],
   "metadata": {
    "collapsed": false,
    "ExecuteTime": {
     "end_time": "2023-08-02T01:53:06.500569600Z",
     "start_time": "2023-08-02T01:53:04.604197500Z"
    }
   }
  },
  {
   "cell_type": "code",
   "execution_count": null,
   "outputs": [],
   "source": [],
   "metadata": {
    "collapsed": false
   }
  }
 ],
 "metadata": {
  "kernelspec": {
   "display_name": "Python 3",
   "language": "python",
   "name": "python3"
  },
  "language_info": {
   "codemirror_mode": {
    "name": "ipython",
    "version": 2
   },
   "file_extension": ".py",
   "mimetype": "text/x-python",
   "name": "python",
   "nbconvert_exporter": "python",
   "pygments_lexer": "ipython2",
   "version": "2.7.6"
  }
 },
 "nbformat": 4,
 "nbformat_minor": 0
}
